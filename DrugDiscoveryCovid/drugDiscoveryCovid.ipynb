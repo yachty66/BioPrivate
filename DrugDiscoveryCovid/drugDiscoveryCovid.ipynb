{
 "cells": [
  {
   "cell_type": "markdown",
   "metadata": {},
   "source": [
    "- ## Approach\n",
    "    - Clarification of terms\n",
    "    - Downloading data\n",
    "    - Implementation"
   ]
  },
  {
   "cell_type": "markdown",
   "metadata": {},
   "source": [
    "- ## Clarification of terms\n",
    "    - novel effective drugs --> new drugs \n",
    "    - SMILES --> ASCII representation of molecules\n",
    "    - binding affinities --> strength of the interaction between to or more molecules \n",
    "    - regression model for binding affinity prediction --> image \n",
    "    - Protein-Ligand docking --> optimal binding between a small molecule and a protein\n",
    "    - RMSE --> image\n",
    "    - MAE --> image "
   ]
  },
  {
   "cell_type": "markdown",
   "metadata": {},
   "source": [
    "- # Notes\n",
    "    - need to predict affinity\n",
    "    - if certain structure than certain affinity \n",
    "    - if input smilke output value based on linear regression"
   ]
  },
  {
   "cell_type": "markdown",
   "metadata": {},
   "source": []
  }
 ],
 "metadata": {
  "kernelspec": {
   "display_name": "Python 3.9.10 64-bit",
   "language": "python",
   "name": "python3"
  },
  "language_info": {
   "name": "python",
   "version": "3.9.10"
  },
  "orig_nbformat": 4,
  "vscode": {
   "interpreter": {
    "hash": "b0fa6594d8f4cbf19f97940f81e996739fb7646882a419484c72d19e05852a7e"
   }
  }
 },
 "nbformat": 4,
 "nbformat_minor": 2
}
